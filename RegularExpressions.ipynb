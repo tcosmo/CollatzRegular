{
 "cells": [
  {
   "cell_type": "code",
   "execution_count": 5,
   "metadata": {},
   "outputs": [],
   "source": [
    "from Collatz_reg import *\n",
    "from Collatz_parity_vector import *"
   ]
  },
  {
   "cell_type": "markdown",
   "metadata": {},
   "source": [
    "# What is this notebook ?\n",
    "This notebook illustrates the construction of the main result (Theorem 4.16) of the paper \"First Occurrence of Parity Vectors and The Regular Structure of $k$-span Predecessor Sets in the Collatz graph\", [arxiv:1907.00775](https://arxiv.org/abs/1907.00775). This algorithm computes the regular expression associated to the $k$-span predecessor set of $x$. You can also find the construction in Appendix E (Algorithm 2).\nThis result is also known as Theorem 1 and Algorithm 1 in the paper 'Collatz Predecessor Sets Partition into Regular Languages'. "
   ]
  },
  {
   "cell_type": "markdown",
   "metadata": {},
   "source": [
    "# Some Regular expressions"
   ]
  },
  {
   "cell_type": "code",
   "execution_count": 6,
   "metadata": {},
   "outputs": [
    {
     "data": {
      "text/plain": [
       "'(011100)*(((01110)(0)((01)*(((0)(1)((0)*)))))|((0)(1)((10)*((()(1)((0)*))))))'"
      ]
     },
     "execution_count": 6,
     "metadata": {},
     "output_type": "execute_result"
    }
   ],
   "source": [
    "get_reg_k(4,2)"
   ]
  },
  {
   "cell_type": "code",
   "execution_count": 7,
   "metadata": {},
   "outputs": [
    {
     "data": {
      "text/plain": [
       "''"
      ]
     },
     "execution_count": 7,
     "metadata": {},
     "output_type": "execute_result"
    }
   ],
   "source": [
    "get_reg_k(3,2)"
   ]
  },
  {
   "cell_type": "code",
   "execution_count": 8,
   "metadata": {},
   "outputs": [
    {
     "data": {
      "text/plain": [
       "'(011110110100001001)*(((01111011010)(0)((000111)*(((0)(0)((01)*(((0)(1)((0)*)))))|((000)(1)((10)*((()(1)((0)*))))))))|((0111101101000)(0)((100011)*(((10)(0)((01)*(((0)(1)((0)*)))))|((1000)(1)((10)*((()(1)((0)*))))))))|((01111)(0)((110001)*(((110)(0)((01)*(((0)(1)((0)*)))))|((11000)(1)((10)*((()(1)((0)*))))))))|((0)(1)((111000)*(((1110)(0)((01)*(((0)(1)((0)*)))))|(()(1)((10)*((()(1)((0)*))))))))|((01111011010000100)(1)((011100)*(((01110)(0)((01)*(((0)(1)((0)*)))))|((0)(1)((10)*((()(1)((0)*))))))))|((0111101)(1)((001110)*((()(0)((01)*(((0)(1)((0)*)))))|((00)(1)((10)*((()(1)((0)*)))))))))'"
      ]
     },
     "execution_count": 8,
     "metadata": {},
     "output_type": "execute_result"
    }
   ],
   "source": [
    "get_reg_k(13,3)"
   ]
  },
  {
   "cell_type": "markdown",
   "metadata": {},
   "source": [
    "# Exponential Growth\n",
    "\n",
    "The length of `reg_k(x,k)` grows exponentially with $k$ when $x$ is not a multiple of 3."
   ]
  },
  {
   "cell_type": "code",
   "execution_count": 9,
   "metadata": {},
   "outputs": [
    {
     "name": "stdout",
     "output_type": "stream",
     "text": [
      "7 21 75 586 11308 616144 "
     ]
    }
   ],
   "source": [
    "for k in range(6):\n",
    "    print(len(get_reg_k(1,k)), end=\" \")"
   ]
  },
  {
   "cell_type": "markdown",
   "metadata": {},
   "source": [
    "# Automatic Testing\n",
    "We use the package 'redone' (https://github.com/cyphar/redone/) in order to automatically test our Regular Expressions."
   ]
  },
  {
   "cell_type": "code",
   "execution_count": 10,
   "metadata": {},
   "outputs": [],
   "source": [
    "import redone "
   ]
  },
  {
   "cell_type": "code",
   "execution_count": 11,
   "metadata": {},
   "outputs": [],
   "source": [
    "def check_match(reg,s):\n",
    "    pat = redone.compile(reg.replace('()',''))\n",
    "    return not(pat.fullmatch(s) is None)"
   ]
  },
  {
   "cell_type": "markdown",
   "metadata": {},
   "source": [
    "By Theorem 4.16, the following test should be positive for any value of $n$. However, the size of the regex is growing exponentially with the span hence the regex testing can be long for parity vectors with long span (>4)."
   ]
  },
  {
   "cell_type": "code",
   "execution_count": 8,
   "metadata": {},
   "outputs": [
    {
     "name": "stdout",
     "output_type": "stream",
     "text": [
      "[0, 0, 0, 0] OK\n",
      "[0, 0, 0, 1] OK\n",
      "[0, 0, 1, 0] OK\n",
      "[0, 0, 1, 1] OK\n",
      "[0, 1, 0, 0] OK\n",
      "[0, 1, 0, 1] OK\n",
      "[0, 1, 1, 0] OK\n",
      "[0, 1, 1, 1] OK\n",
      "[1, 0, 0, 0] OK\n",
      "[1, 0, 0, 1] OK\n",
      "[1, 0, 1, 0] OK\n",
      "[1, 0, 1, 1] OK\n",
      "[1, 1, 0, 0] OK\n",
      "[1, 1, 0, 1] OK\n",
      "[1, 1, 1, 0] OK\n",
      "[1, 1, 1, 1] OK\n",
      "OK!\n"
     ]
    }
   ],
   "source": [
    "n = 4\n",
    "for p in get_parvec_with_constraints(parvec_norm=n):\n",
    "    Collatz_encoding = get_Collatz_encoding(p)\n",
    "    occurrence = get_first_occurrence(p)\n",
    "    \n",
    "    span = l_of(p)\n",
    "    reg = get_reg_k(occurrence[-1],span)\n",
    "    \n",
    "    if not check_match(reg,Collatz_encoding):\n",
    "        print(p, \"NOT OK!\")\n",
    "        break\n",
    "    else:\n",
    "        print(p, \"OK\")\n",
    "print(\"OK!\")"
   ]
  }
 ],
 "metadata": {
  "kernelspec": {
   "display_name": "Python 3",
   "language": "python",
   "name": "python3"
  },
  "language_info": {
   "codemirror_mode": {
    "name": "ipython",
    "version": 3
   },
   "file_extension": ".py",
   "mimetype": "text/x-python",
   "name": "python",
   "nbconvert_exporter": "python",
   "pygments_lexer": "ipython3",
   "version": "3.6.8"
  }
 },
 "nbformat": 4,
 "nbformat_minor": 2
}
