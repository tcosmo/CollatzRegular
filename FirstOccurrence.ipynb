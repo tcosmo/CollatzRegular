{
 "cells": [
  {
   "cell_type": "code",
   "execution_count": 1,
   "metadata": {},
   "outputs": [],
   "source": [
    "from Collatz_routines import *\n",
    "from Collatz_parity_vector import *"
   ]
  },
  {
   "cell_type": "markdown",
   "metadata": {},
   "source": [
    "# What is this notebook ?\n",
    "This notebook illustrates Algorithm 1 of the paper \"First Occurrence of Parity Vectors and The Regular Structure of k-span Predecessor Sets in the Collatz graph\". This algorithm computes the first occurrence (or the ith) of a parity vector in the Collatz graph."
   ]
  },
  {
   "cell_type": "code",
   "execution_count": 2,
   "metadata": {},
   "outputs": [
    {
     "name": "stdout",
     "output_type": "stream",
     "text": [
      "[1, 0, 0, 0, 0, 1, 0, 0, 0, 0]\n"
     ]
    }
   ],
   "source": [
    "p = get_random_parvec(parvec_norm=10)\n",
    "print(p)"
   ]
  },
  {
   "cell_type": "code",
   "execution_count": 3,
   "metadata": {},
   "outputs": [
    {
     "name": "stdout",
     "output_type": "stream",
     "text": [
      "[565, 848, 424, 212, 106, 53, 80, 40, 20, 10, 5]\n"
     ]
    }
   ],
   "source": [
    "print(get_first_occurrence(p))"
   ]
  },
  {
   "cell_type": "code",
   "execution_count": 4,
   "metadata": {},
   "outputs": [
    {
     "name": "stdout",
     "output_type": "stream",
     "text": [
      "[4661, 6992, 3496, 1748, 874, 437, 656, 328, 164, 82, 41]\n"
     ]
    }
   ],
   "source": [
    "print(get_occurrence(p,i=4))"
   ]
  }
 ],
 "metadata": {
  "kernelspec": {
   "display_name": "Python 3",
   "language": "python",
   "name": "python3"
  },
  "language_info": {
   "codemirror_mode": {
    "name": "ipython",
    "version": 3
   },
   "file_extension": ".py",
   "mimetype": "text/x-python",
   "name": "python",
   "nbconvert_exporter": "python",
   "pygments_lexer": "ipython3",
   "version": "3.6.8"
  }
 },
 "nbformat": 4,
 "nbformat_minor": 2
}
